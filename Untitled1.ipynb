{
  "nbformat": 4,
  "nbformat_minor": 0,
  "metadata": {
    "colab": {
      "provenance": [],
      "authorship_tag": "ABX9TyPdOC/HG7RIDubMRtDb1j36",
      "include_colab_link": true
    },
    "kernelspec": {
      "name": "python3",
      "display_name": "Python 3"
    },
    "language_info": {
      "name": "python"
    }
  },
  "cells": [
    {
      "cell_type": "markdown",
      "metadata": {
        "id": "view-in-github",
        "colab_type": "text"
      },
      "source": [
        "<a href=\"https://colab.research.google.com/github/hajin7001/Class2023FallPhonetics/blob/main/Untitled1.ipynb\" target=\"_parent\"><img src=\"https://colab.research.google.com/assets/colab-badge.svg\" alt=\"Open In Colab\"/></a>"
      ]
    },
    {
      "cell_type": "code",
      "execution_count": null,
      "metadata": {
        "id": "EFqdzdSC2TDE"
      },
      "outputs": [],
      "source": [
        "a = 1"
      ]
    },
    {
      "cell_type": "code",
      "source": [
        "s = \"abcd\"\n",
        "print(s[0], s[1], s[-1])"
      ],
      "metadata": {
        "colab": {
          "base_uri": "https://localhost:8080/"
        },
        "id": "hdyfxp1yBrUn",
        "outputId": "960abac2-da94-4f89-d474-91df752b5400"
      },
      "execution_count": null,
      "outputs": [
        {
          "output_type": "stream",
          "name": "stdout",
          "text": [
            "a b d\n"
          ]
        }
      ]
    },
    {
      "cell_type": "code",
      "source": [
        "# string의 find function에 대해서 설명함\n",
        "s = \"I built a tree house\"\n",
        "print(s.find('house'))\n",
        "# 그리고 strip function에 대해서도 설명함\n",
        "# join, replace에 대해서도\n",
        "tokens = s.strip()\n",
        "print(tokens)\n",
        "tokens = s.split(' ')\n",
        "print(tokens)\n",
        "s = ' '.join(tokens)\n",
        "print(s)\n",
        "s = s.replace(\"tree\", \"brown\")\n",
        "print(s)"
      ],
      "metadata": {
        "colab": {
          "base_uri": "https://localhost:8080/"
        },
        "id": "2s_rOBRlE7Mq",
        "outputId": "7aa5f1f0-d6b9-423c-c2f2-99fde56888f7"
      },
      "execution_count": null,
      "outputs": [
        {
          "output_type": "stream",
          "name": "stdout",
          "text": [
            "15\n",
            "I built a tree house\n",
            "['I', 'built', 'a', 'tree', 'house']\n",
            "I built a tree house\n",
            "I built a brown house\n"
          ]
        }
      ]
    },
    {
      "cell_type": "code",
      "source": [
        "a = [1, 2, 3, 4]\n",
        "b = [i for i in a if i >=2]\n",
        "# 이런식의 람다식(?)이 가능하다"
      ],
      "metadata": {
        "id": "xkVw4XeUMdfN"
      },
      "execution_count": null,
      "outputs": []
    }
  ]
}
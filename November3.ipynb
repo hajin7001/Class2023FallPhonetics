{
  "nbformat": 4,
  "nbformat_minor": 0,
  "metadata": {
    "colab": {
      "provenance": [],
      "authorship_tag": "ABX9TyOjLYtJ5BN1dAEv3E+8DwhT",
      "include_colab_link": true
    },
    "kernelspec": {
      "name": "python3",
      "display_name": "Python 3"
    },
    "language_info": {
      "name": "python"
    }
  },
  "cells": [
    {
      "cell_type": "markdown",
      "metadata": {
        "id": "view-in-github",
        "colab_type": "text"
      },
      "source": [
        "<a href=\"https://colab.research.google.com/github/hajin7001/Class2023FallPhonetics/blob/main/November3.ipynb\" target=\"_parent\"><img src=\"https://colab.research.google.com/assets/colab-badge.svg\" alt=\"Open In Colab\"/></a>"
      ]
    },
    {
      "cell_type": "code",
      "execution_count": 3,
      "metadata": {
        "colab": {
          "base_uri": "https://localhost:8080/"
        },
        "id": "6x7oig2r8Mat",
        "outputId": "f019c151-04d2-463c-f20f-68be4297473a"
      },
      "outputs": [
        {
          "output_type": "stream",
          "name": "stdout",
          "text": [
            "{'red': 1, 'blue': 2}\n"
          ]
        }
      ],
      "source": [
        "a = ['red', 'blue']\n",
        "b = [1, 2]\n",
        "c = {a[i]: b[i] for i in range (2)} # 이런식으로 dictionary 도 내부 함수로 만들 수 있다\n",
        "print(c)"
      ]
    },
    {
      "cell_type": "code",
      "source": [
        "import numpy as np\n",
        "n = np.random.randn(100)"
      ],
      "metadata": {
        "id": "FynfeEiU_rxi"
      },
      "execution_count": 7,
      "outputs": []
    },
    {
      "cell_type": "code",
      "source": [
        "np.random.randn(2, 3, 5)"
      ],
      "metadata": {
        "colab": {
          "base_uri": "https://localhost:8080/"
        },
        "id": "LvH4zIteBQpO",
        "outputId": "22b832d3-1c00-4caf-806d-f1fdcfa794d7"
      },
      "execution_count": 5,
      "outputs": [
        {
          "output_type": "execute_result",
          "data": {
            "text/plain": [
              "array([[[-0.52171292,  1.70883437, -0.91110435,  1.05773723,\n",
              "          0.33174031],\n",
              "        [ 1.46563738, -1.38847056,  0.38495942, -1.61682858,\n",
              "         -0.05682957],\n",
              "        [ 1.07025195, -1.30123278, -1.52981173,  0.42892825,\n",
              "          0.4941722 ]],\n",
              "\n",
              "       [[-1.21635338, -0.65732227, -1.1636542 ,  0.12979343,\n",
              "          1.49397501],\n",
              "        [-1.41414687,  1.09914202,  0.87509227, -1.67848617,\n",
              "          1.2970152 ],\n",
              "        [-1.05490942,  0.29379092, -0.12168324, -0.69349949,\n",
              "          0.33618756]]])"
            ]
          },
          "metadata": {},
          "execution_count": 5
        }
      ]
    },
    {
      "cell_type": "code",
      "source": [
        "import matplotlib as m\n",
        "m.pyplot.hist(n)"
      ],
      "metadata": {
        "colab": {
          "base_uri": "https://localhost:8080/",
          "height": 519
        },
        "id": "V-nJ8T4nB-7A",
        "outputId": "7aabbbe6-7e39-47c4-ea9f-a2164c9b8c69"
      },
      "execution_count": 8,
      "outputs": [
        {
          "output_type": "execute_result",
          "data": {
            "text/plain": [
              "(array([ 7.,  5.,  9., 26., 13., 17.,  6.,  8.,  6.,  3.]),\n",
              " array([-1.80986585, -1.40844636, -1.00702688, -0.60560739, -0.2041879 ,\n",
              "         0.19723158,  0.59865107,  1.00007055,  1.40149004,  1.80290953,\n",
              "         2.20432901]),\n",
              " <BarContainer object of 10 artists>)"
            ]
          },
          "metadata": {},
          "execution_count": 8
        },
        {
          "output_type": "display_data",
          "data": {
            "text/plain": [
              "<Figure size 640x480 with 1 Axes>"
            ],
            "image/png": "[encoded data removed]"
          },
          "metadata": {}
        }
      ]
    },
    {
      "cell_type": "code",
      "source": [
        "# 그리고 standard deviation = 표준편차에 대해서 잘 알고 있으라고 말씀하심\n",
        "\n",
        "from matplotlib import pyplot\n",
        "pyplot.hist(n)"
      ],
      "metadata": {
        "colab": {
          "base_uri": "https://localhost:8080/",
          "height": 519
        },
        "id": "-ufLts4SDdw4",
        "outputId": "c0d0d12b-a4cf-419d-c2aa-b5dd0d8ff301"
      },
      "execution_count": 9,
      "outputs": [
        {
          "output_type": "execute_result",
          "data": {
            "text/plain": [
              "(array([ 7.,  5.,  9., 26., 13., 17.,  6.,  8.,  6.,  3.]),\n",
              " array([-1.80986585, -1.40844636, -1.00702688, -0.60560739, -0.2041879 ,\n",
              "         0.19723158,  0.59865107,  1.00007055,  1.40149004,  1.80290953,\n",
              "         2.20432901]),\n",
              " <BarContainer object of 10 artists>)"
            ]
          },
          "metadata": {},
          "execution_count": 9
        },
        {
          "output_type": "display_data",
          "data": {
            "text/plain": [
              "<Figure size 640x480 with 1 Axes>"
            ],
            "image/png": "[encoded data removed]"
          },
          "metadata": {}
        }
      ]
    },
    {
      "cell_type": "code",
      "source": [
        "import numpy as np\n",
        "x = np.array([1, 2,3])\n",
        "print(x)\n",
        "print(x.shape) # dimension 정보를 준다\n",
        "x = np.linspace (0, 10, 6) # 0에서 10까지를 6등분하라\n",
        "print(x)\n"
      ],
      "metadata": {
        "colab": {
          "base_uri": "https://localhost:8080/"
        },
        "id": "bua_931uEjBY",
        "outputId": "a3bbea08-4bfc-41db-e2d6-c4afec9a53a6"
      },
      "execution_count": 12,
      "outputs": [
        {
          "output_type": "stream",
          "name": "stdout",
          "text": [
            "[1 2 3]\n",
            "(3,)\n",
            "[ 0.  2.  4.  6.  8. 10.]\n"
          ]
        }
      ]
    },
    {
      "cell_type": "code",
      "source": [
        "x = np.array([[[1, 2, 3], [4, 5, 6]] ,[[7, 8, 9], [10, 11, 12]]])\n",
        "print(x)\n",
        "print(type(x))\n",
        "print(x.shape)"
      ],
      "metadata": {
        "colab": {
          "base_uri": "https://localhost:8080/"
        },
        "id": "cB2xUF2JGej_",
        "outputId": "7898029c-645f-4516-fda1-353e7874ca95"
      },
      "execution_count": 14,
      "outputs": [
        {
          "output_type": "stream",
          "name": "stdout",
          "text": [
            "[[[ 1  2  3]\n",
            "  [ 4  5  6]]\n",
            "\n",
            " [[ 7  8  9]\n",
            "  [10 11 12]]]\n",
            "<class 'numpy.ndarray'>\n",
            "(2, 2, 3)\n"
          ]
        }
      ]
    },
    {
      "cell_type": "code",
      "source": [
        "x = np.zeros ([1, 2, 3])\n",
        "print(x)"
      ],
      "metadata": {
        "colab": {
          "base_uri": "https://localhost:8080/"
        },
        "id": "O9nmpyucG8JN",
        "outputId": "426673c1-16a4-4ab1-ca28-cae533c2c3dc"
      },
      "execution_count": 15,
      "outputs": [
        {
          "output_type": "stream",
          "name": "stdout",
          "text": [
            "[[[0. 0. 0.]\n",
            "  [0. 0. 0.]]]\n"
          ]
        }
      ]
    },
    {
      "cell_type": "code",
      "source": [
        "import matplotlib as m\n",
        "import matplotlib.pyplot as plt\n",
        "\n",
        "plt.Figure()\n",
        "theta1 = np.linspace(0, 2*np.pi, 100)\n",
        "s1 = np.sin(theta1)\n",
        "theta2 = np.linspace(0, 2*np.pi, 100) + np.pi/2\n",
        "s2 = np.sin(theta2)\n",
        "\n",
        "\n",
        "plt.subplot(2, 1, 1) #rows columns panel numbers\n",
        "plt.plot(theta1, s1, '.')"
      ],
      "metadata": {
        "colab": {
          "base_uri": "https://localhost:8080/",
          "height": 246
        },
        "id": "6GIlLOc6IID4",
        "outputId": "98f8ac63-a2f3-4bc5-b7fc-b5f35917ec2c"
      },
      "execution_count": 19,
      "outputs": [
        {
          "output_type": "execute_result",
          "data": {
            "text/plain": [
              "[<matplotlib.lines.Line2D at 0x7c7a54318df0>]"
            ]
          },
          "metadata": {},
          "execution_count": 19
        },
        {
          "output_type": "display_data",
          "data": {
            "text/plain": [
              "<Figure size 640x480 with 1 Axes>"
            ],
            "image/png": "[encoded data removed]"
          },
          "metadata": {}
        }
      ]
    },
    {
      "cell_type": "code",
      "source": [
        "np.corrcoef(s1, s2)\n",
        "# 두 개의 벡터 (숫자 100개짜리) 에 대한 비교를 한 거지\n",
        "# [0, 1]와 [1, 0]을 비교 서로 90도를 이루고 있다. sin 곡선의 shift된 90도와 그래프상의 90도가 일치하고 이를 코사인 시키면 0\n",
        "# 두 벡터가 이루는 각도의 느낌 그걸로 correlation, cos, sin곡선 이런 관계가 서로서로 엮여있다."
      ],
      "metadata": {
        "colab": {
          "base_uri": "https://localhost:8080/"
        },
        "id": "7Nw0r9T3KFZu",
        "outputId": "96f837ec-6495-4d3a-932d-dd3b6db7b1c2"
      },
      "execution_count": 20,
      "outputs": [
        {
          "output_type": "execute_result",
          "data": {
            "text/plain": [
              "array([[1.00000000e+00, 2.41915449e-17],\n",
              "       [2.41915449e-17, 1.00000000e+00]])"
            ]
          },
          "metadata": {},
          "execution_count": 20
        }
      ]
    }
  ]
}